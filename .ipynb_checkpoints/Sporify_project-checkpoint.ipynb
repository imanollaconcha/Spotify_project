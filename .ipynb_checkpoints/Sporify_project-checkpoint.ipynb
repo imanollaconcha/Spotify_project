{
 "cells": [
  {
   "cell_type": "markdown",
   "id": "geographic-sword",
   "metadata": {},
   "source": [
    "## Tell me a song, I will tell you if it is hot,  if not I will recomend you a similar song.\n",
    "\n",
    "![spotify](images/spotify.jpg)"
   ]
  },
  {
   "cell_type": "code",
   "execution_count": 8,
   "id": "random-burke",
   "metadata": {},
   "outputs": [],
   "source": [
    "check()"
   ]
  },
  {
   "cell_type": "code",
   "execution_count": 33,
   "id": "dress-alloy",
   "metadata": {},
   "outputs": [],
   "source": []
  },
  {
   "cell_type": "code",
   "execution_count": null,
   "id": "biological-honduras",
   "metadata": {},
   "outputs": [],
   "source": [
    "# Example of a Link of play list (with 13 songs it takes like 15 mins to run it because of the spotify API).\n",
    "'https://open.spotify.com/playlist/5XbnEtKOWl1c2GwfY1bnN8?si=03577c741a7f4de0'"
   ]
  },
  {
   "cell_type": "code",
   "execution_count": null,
   "id": "velvet-rocket",
   "metadata": {},
   "outputs": [],
   "source": []
  },
  {
   "cell_type": "markdown",
   "id": "broadband-vehicle",
   "metadata": {
    "heading_collapsed": true
   },
   "source": [
    "# 1. Fuction."
   ]
  },
  {
   "cell_type": "markdown",
   "id": "aggressive-delaware",
   "metadata": {
    "heading_collapsed": true,
    "hidden": true
   },
   "source": [
    "## 1.1 Main fuction"
   ]
  },
  {
   "cell_type": "code",
   "execution_count": 1,
   "id": "indonesian-spanking",
   "metadata": {
    "hidden": true
   },
   "outputs": [],
   "source": [
    "def check():\n",
    "        selected_song = input(str('Tell me a song : ')).title()\n",
    "        if selected_song in songs['title'].values:  \n",
    "            recomendation = songs.sample()\n",
    "            print('It is in the list, probaly you will like',recomendation['title'].values[0], 'from',recomendation['artist'].values[0])\n",
    "        else: \n",
    "            link = input(\"Right now it is not a hot song, so tell my the link of a playlist,\\n\" \n",
    "                         \"I'll recomend you a song based on this playlist,\\n\"\n",
    "                         \"it will take me a few moments : \")\n",
    "            code = re.findall('\\w{20,25}', str(link))\n",
    "            playlist = sp.user_playlist_tracks(\"spotify\", code[0])\n",
    "            playlist_more_song_features(playlist)\n",
    "            uri = sp.search(q=selected_song)['tracks']['items'][0]['uri']\n",
    "            user_song_feat = sp.audio_features(uri)\n",
    "            user_song_feat = pd.DataFrame(user_song_feat).drop(['id','uri','track_href','analysis_url','type'],axis=1)\n",
    "            user_song_feat_sca = scale.transform(user_song_feat)\n",
    "            user_clus = kmeans.predict(user_song_feat_sca)  \n",
    "            \n",
    "            recomendation = (song_clusters[song_clusters['cluster'] == user_clus[0]]).sample()\n",
    "            \n",
    "            print('Probably you will like ',\n",
    "                  (recomendation['song'].values)[0],\n",
    "                 'from ', (recomendation['artists'].values)[0],\"enjoy it.\")"
   ]
  },
  {
   "cell_type": "markdown",
   "id": "obvious-klein",
   "metadata": {
    "heading_collapsed": true,
    "hidden": true
   },
   "source": [
    "## 1.2 Getting all libraries."
   ]
  },
  {
   "cell_type": "code",
   "execution_count": 2,
   "id": "smaller-queens",
   "metadata": {
    "hidden": true
   },
   "outputs": [],
   "source": [
    "import pandas as pd\n",
    "from bs4 import BeautifulSoup\n",
    "import requests\n",
    "import random\n",
    "import re\n",
    "import spotipy\n",
    "from spotipy.oauth2 import SpotifyClientCredentials\n",
    "from sklearn import datasets\n",
    "from sklearn.preprocessing import StandardScaler\n",
    "from sklearn.cluster import KMeans"
   ]
  },
  {
   "cell_type": "markdown",
   "id": "powered-ghana",
   "metadata": {
    "heading_collapsed": true,
    "hidden": true
   },
   "source": [
    "## 1.3 Web scraping to have a data set of top songs."
   ]
  },
  {
   "cell_type": "code",
   "execution_count": 3,
   "id": "innovative-pavilion",
   "metadata": {
    "hidden": true
   },
   "outputs": [],
   "source": [
    "url = 'https://www.billboard.com/charts/hot-100'\n",
    "response = requests.get(url)\n",
    "response.status_code\n",
    "soup = BeautifulSoup(response.content, \"html.parser\")\n",
    "\n",
    "# To generate the data frame of all top songs.\n",
    "num_itr = len(soup.select('span.chart-element__information > span.chart-element__information__song.text--truncate.color--primary'))\n",
    "\n",
    "rank = []\n",
    "title = []\n",
    "art = []\n",
    "\n",
    "for song in range(num_itr):\n",
    "    title.append(soup.select('span.chart-element__information__song')[song].get_text())\n",
    "    art.append(soup.select('span.chart-element__information__artist')[song].get_text())\n",
    "    rank.append(soup.select('span.chart-element__rank__number')[song].get_text())\n",
    "songs = pd.DataFrame({\"ranking\":rank, \"title\":title, \"artist\":art})  "
   ]
  },
  {
   "cell_type": "markdown",
   "id": "analyzed-injection",
   "metadata": {
    "heading_collapsed": true,
    "hidden": true
   },
   "source": [
    "## 1.4 Create a collection of songs with their audio features, depending on a link to give the recomendation."
   ]
  },
  {
   "cell_type": "code",
   "execution_count": 4,
   "id": "accessory-impression",
   "metadata": {
    "hidden": true
   },
   "outputs": [],
   "source": [
    "secrets_file = open(\"../spotify_user.txt\",\"r\")\n",
    "string = secrets_file.read()\n",
    "string.split('\\n')\n",
    "secrets_dict={}\n",
    "for line in string.split('\\n'):\n",
    "  secrets_dict[line.split(':')[0]]=line.split(':')[1]\n",
    "\n",
    "sp = spotipy.Spotify(auth_manager=SpotifyClientCredentials(client_id=secrets_dict['client_id'],\n",
    "                                                           client_secret=secrets_dict['client_secret']))"
   ]
  },
  {
   "cell_type": "code",
   "execution_count": 5,
   "id": "vanilla-candidate",
   "metadata": {
    "hidden": true
   },
   "outputs": [],
   "source": [
    "def playlist_more_song_features(playlist):\n",
    "    global scale\n",
    "    global kmeans\n",
    "    global song_clusters\n",
    "    \n",
    "    songs = get_name_artists_from_playlist(playlist) \n",
    "\n",
    "    # In order to get all the singers in a list.\n",
    "    singers = []\n",
    "    for i in range(len(songs)):             \n",
    "        singers.append(songs[i][1])\n",
    "\n",
    "    singers = list(dict.fromkeys(singers))  #To drop duplicates singers\n",
    "\n",
    "    # Itereting with the previous fuction, we have names of more songs in a list\n",
    "    more_songs = []   \n",
    "    for i in range(len(singers)):  \n",
    "        more_songs.append(get_artist_tracks(singers[i]))\n",
    "\n",
    "    more_songs = flatten(more_songs)  # To have it in a singel list\n",
    "\n",
    "    songs_names = []\n",
    "    artists_names = []\n",
    "    uris = []\n",
    "\n",
    "    # To have the songs and artists names and features\n",
    "    for track in more_songs:\n",
    "        songs_names.append(track['name'])\n",
    "        artists_names.append(track['artists'][0]['name'])\n",
    "\n",
    "    i = 0\n",
    "    chunk_of_100_uris = []\n",
    "    for track in more_songs:\n",
    "        if i < 100:\n",
    "            chunk_of_100_uris.append(sp.audio_features(track['uri']))\n",
    "            i = i+1\n",
    "        else:\n",
    "            uris.append(chunk_of_100_uris)\n",
    "            i = 0\n",
    "            chunk_of_100_uris = []\n",
    "            chunk_of_100_uris.append(sp.audio_features(track['uri']))\n",
    "            i = i+1       \n",
    "    uris.append(chunk_of_100_uris)   \n",
    "\n",
    "    uris = flatten(flatten(uris))  # To have a unique list\n",
    "\n",
    "    #Creating the data Frame\n",
    "    S = pd.DataFrame(songs_names)\n",
    "    A = pd.DataFrame(artists_names)\n",
    "    U = pd.DataFrame(uris)\n",
    "\n",
    "    S.columns = ['song']\n",
    "    A.columns = ['artists']\n",
    "\n",
    "    SAU = pd.concat([S,A,U],axis=1)\n",
    "    SAU = SAU.drop(['id','uri','track_href','analysis_url','type'],axis=1)\n",
    "\n",
    "\n",
    "    #Spliting the data frame\n",
    "    SAU_name = SAU[['song','artists']]\n",
    "    SAU_features = SAU.drop(['song','artists'],axis=1)\n",
    "\n",
    "    # Normalizing it.\n",
    "    scale = StandardScaler()\n",
    "    X_prep = scale.fit_transform(SAU_features)\n",
    "\n",
    "    # The prediction model.\n",
    "    kmeans = KMeans(n_clusters=12, random_state=1234)\n",
    "    kmeans.fit(X_prep)\n",
    "\n",
    "    # Predicting / assigning the clusters:\n",
    "    clusters = kmeans.predict(X_prep)\n",
    "\n",
    "    #Finall data frame\n",
    "    clusters = pd.DataFrame(clusters, columns = ['cluster'])\n",
    "    SAU_features_stand = pd.DataFrame(X_prep,columns = SAU_features.columns)\n",
    "    song_clusters = pd.concat([clusters,SAU_name,SAU_features_stand],axis=1)\n",
    "    song_clusters = song_clusters.drop_duplicates(['song','artists'])"
   ]
  },
  {
   "cell_type": "markdown",
   "id": "lesbian-attack",
   "metadata": {
    "hidden": true
   },
   "source": [
    "## 1.5 Fuctions needed for the previous fuction."
   ]
  },
  {
   "cell_type": "code",
   "execution_count": 6,
   "id": "hundred-sydney",
   "metadata": {
    "hidden": true
   },
   "outputs": [],
   "source": [
    "def get_name_artists_from_track(track):\n",
    "    return [(track[\"name\"],track['artists'][0]['name'])]\n",
    "\n",
    "def get_name_artist_from_playlist_item(playlist_item):\n",
    "      return get_name_artists_from_track(playlist_item['track'])\n",
    "    \n",
    "def flatten(input_list):\n",
    "      return [item for sublist in input_list for item in sublist]\n",
    "    \n",
    "def get_name_artists_from_playlist(input_playlist):\n",
    "      return flatten(list(map(get_name_artist_from_playlist_item,input_playlist[\"items\"])))\n",
    "    \n",
    "# Defining a fuction to be able to get 950 songs of each singer in the previous list.\n",
    "def get_artist_tracks(artist):  \n",
    "    results = sp.search(q=artist,limit=50)\n",
    "    tracks = results['tracks']['items']\n",
    "    i=0\n",
    "    while ((results['tracks']['next']!=None)) & (i<19):\n",
    "        i = i+1\n",
    "        results = sp.next(results['tracks'])\n",
    "        tracks = tracks + results['tracks']['items']\n",
    "    return tracks"
   ]
  }
 ],
 "metadata": {
  "kernelspec": {
   "display_name": "Python 3",
   "language": "python",
   "name": "python3"
  },
  "language_info": {
   "codemirror_mode": {
    "name": "ipython",
    "version": 3
   },
   "file_extension": ".py",
   "mimetype": "text/x-python",
   "name": "python",
   "nbconvert_exporter": "python",
   "pygments_lexer": "ipython3",
   "version": "3.9.2"
  }
 },
 "nbformat": 4,
 "nbformat_minor": 5
}
